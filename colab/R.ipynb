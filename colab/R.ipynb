{
  "nbformat": 4,
  "nbformat_minor": 0,
  "metadata": {
    "colab": {
      "name": "R.ipynb",
      "provenance": [],
      "authorship_tag": "ABX9TyNjQCsJip6VtmwEpNtzldSd",
      "include_colab_link": true
    },
    "kernelspec": {
      "name": "ir",
      "display_name": "R"
    }
  },
  "cells": [
    {
      "cell_type": "markdown",
      "metadata": {
        "id": "view-in-github",
        "colab_type": "text"
      },
      "source": [
        "<a href=\"https://colab.research.google.com/github/gitdemont/IFC/blob/master/colab/R.ipynb\" target=\"_parent\"><img src=\"https://colab.research.google.com/assets/colab-badge.svg\" alt=\"Open In Colab\"/></a>"
      ]
    },
    {
      "cell_type": "code",
      "metadata": {
        "id": "szvLV-lv87jO",
        "colab_type": "code",
        "outputId": "571c5298-0036-4feb-b24d-7f2d22b64b0e",
        "colab": {
          "base_uri": "https://localhost:8080/",
          "height": 68
        }
      },
      "source": [
        "install.packages(\"devtools\")"
      ],
      "execution_count": 0,
      "outputs": [
        {
          "output_type": "stream",
          "text": [
            "Installing package into ‘/usr/local/lib/R/site-library’\n",
            "(as ‘lib’ is unspecified)\n",
            "\n"
          ],
          "name": "stderr"
        }
      ]
    },
    {
      "cell_type": "code",
      "metadata": {
        "id": "8WQu93MC_jn4",
        "colab_type": "code",
        "outputId": "71141ea0-0613-4636-a457-63c384113464",
        "colab": {
          "base_uri": "https://localhost:8080/",
          "height": 68
        }
      },
      "source": [
        "install.packages(pkgs = 'IFCdata', repos = 'https://gitdemont.github.io/IFCdata', type = 'source')"
      ],
      "execution_count": 0,
      "outputs": [
        {
          "output_type": "stream",
          "text": [
            "Installing package into ‘/usr/local/lib/R/site-library’\n",
            "(as ‘lib’ is unspecified)\n",
            "\n"
          ],
          "name": "stderr"
        }
      ]
    },
    {
      "cell_type": "code",
      "metadata": {
        "id": "HDHp85mw-xek",
        "colab_type": "code",
        "outputId": "90b82201-ae21-4805-890a-048b0f62ef0c",
        "colab": {
          "base_uri": "https://localhost:8080/",
          "height": 153
        }
      },
      "source": [
        "library(devtools)\n",
        "install_github(pkgs = \"IFC\", repos = \"gitdemont/IFC\", type = 'source', dependencies = TRUE, )"
      ],
      "execution_count": 0,
      "outputs": [
        {
          "output_type": "stream",
          "text": [
            "Installing package into ‘/usr/local/lib/R/site-library’\n",
            "(as ‘lib’ is unspecified)\n",
            "\n",
            "Warning message:\n",
            "“unable to access index for repository gitdemont/IFC/src/contrib:\n",
            "  cannot open URL 'gitdemont/IFC/src/contrib/PACKAGES'”\n",
            "Warning message:\n",
            "“package ‘IFC’ is not available (for R version 3.6.3)”\n"
          ],
          "name": "stderr"
        }
      ]
    },
    {
      "cell_type": "code",
      "metadata": {
        "id": "Fy7GDmjgCEOJ",
        "colab_type": "code",
        "outputId": "9389bfdb-fdd2-4c74-f074-1f0893964912",
        "colab": {
          "base_uri": "https://localhost:8080/",
          "height": 657
        }
      },
      "source": [
        "install_git(\"git://github.com/gitdemont/IFC.git\", credentials = NULL, quiet = FALSE, dependencies = TRUE)"
      ],
      "execution_count": 0,
      "outputs": [
        {
          "output_type": "error",
          "ename": "ERROR",
          "evalue": "ignored",
          "traceback": [
            "Error: Failed to install 'unknown package' from Git:\n  Error in 'git2r_remote_ls': remote error: \n  Repository not found.\n\nTraceback:\n",
            "1. install_git(\"git://github.com/gitdemont/IFC.git\", credentials = NULL, \n .     quiet = FALSE, dependencies = TRUE)",
            "2. pkgbuild::with_build_tools({\n .     ellipsis::check_dots_used(action = getOption(\"devtools.ellipsis_action\", \n .         rlang::warn))\n .     {\n .         if (!missing(branch)) {\n .             warning(\"`branch` is deprecated, please use `ref`\")\n .             ref <- branch\n .         }\n .         remotes <- lapply(url, git_remote, subdir = subdir, ref = ref, \n .             credentials = credentials, git = match.arg(git))\n .         install_remotes(remotes, credentials = credentials, dependencies = dependencies, \n .             upgrade = upgrade, force = force, quiet = quiet, \n .             build = build, build_opts = build_opts, build_manual = build_manual, \n .             build_vignettes = build_vignettes, repos = repos, \n .             type = type, ...)\n .     }\n . }, required = FALSE)",
            "3. install_remotes(remotes, credentials = credentials, dependencies = dependencies, \n .     upgrade = upgrade, force = force, quiet = quiet, build = build, \n .     build_opts = build_opts, build_manual = build_manual, build_vignettes = build_vignettes, \n .     repos = repos, type = type, ...)",
            "4. tryCatch(res[[i]] <- install_remote(remotes[[i]], ...), error = function(e) {\n .     stop(remote_install_error(remotes[[i]], e))\n . })",
            "5. tryCatchList(expr, classes, parentenv, handlers)",
            "6. tryCatchOne(expr, names, parentenv, handlers[[1L]])",
            "7. value[[3L]](cond)"
          ]
        }
      ]
    }
  ]
}