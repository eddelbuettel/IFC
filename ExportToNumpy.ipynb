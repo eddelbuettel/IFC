{
  "nbformat": 4,
  "nbformat_minor": 0,
  "metadata": {
    "colab": {
      "name": "ExportToNumpy.ipynb",
      "provenance": [],
      "collapsed_sections": [],
      "authorship_tag": "ABX9TyPrrPD5JN9NsO3Tm6MxqbEB",
      "include_colab_link": true
    },
    "kernelspec": {
      "name": "python3",
      "display_name": "Python 3"
    }
  },
  "cells": [
    {
      "cell_type": "markdown",
      "metadata": {
        "id": "view-in-github",
        "colab_type": "text"
      },
      "source": [
        "<a href=\"https://colab.research.google.com/github/gitdemont/IFC/blob/master/ExportToNumpy.ipynb\" target=\"_parent\"><img src=\"https://colab.research.google.com/assets/colab-badge.svg\" alt=\"Open In Colab\"/></a>"
      ]
    },
    {
      "cell_type": "code",
      "metadata": {
        "id": "9Z8oURKwtXhg",
        "colab_type": "code",
        "colab": {}
      },
      "source": [
        "# install and load devtools\n",
        "# needed to install IFC pkg\n",
        "# from github\n",
        "install.packages(\"devtools\")\n",
        "library(devtools)"
      ],
      "execution_count": 0,
      "outputs": []
    },
    {
      "cell_type": "code",
      "metadata": {
        "id": "5TOeFLlftXki",
        "colab_type": "code",
        "colab": {}
      },
      "source": [
        "# install and load googledrive\n",
        "install.packages(\"googledrive\")\n",
        "library(googledrive)"
      ],
      "execution_count": 0,
      "outputs": []
    },
    {
      "cell_type": "code",
      "metadata": {
        "id": "9AySzFlZtXnw",
        "colab_type": "code",
        "colab": {}
      },
      "source": [
        "# install and load extra dependency to use googledrive\n",
        "install.packages(\"httr\")\n",
        "install.packages(\"R.utils\")\n",
        "library(httr, quietly = TRUE)\n",
        "library(R.utils, quietly = TRUE)"
      ],
      "execution_count": 0,
      "outputs": []
    },
    {
      "cell_type": "code",
      "metadata": {
        "id": "yNDUBr18tXqN",
        "colab_type": "code",
        "colab": {}
      },
      "source": [
        "# use a tick to fake interactive session\n",
        "# needed to use google drive\n",
        "reassignInPackage(\"is_interactive\", pkgName = \"httr\", function() {return(TRUE)}) "
      ],
      "execution_count": 0,
      "outputs": []
    },
    {
      "cell_type": "code",
      "metadata": {
        "id": "ST7WABc_tQmn",
        "colab_type": "code",
        "colab": {}
      },
      "source": [
        "#start authentification\n",
        "drive_auth(use_oob = TRUE, cache = TRUE)"
      ],
      "execution_count": 0,
      "outputs": []
    },
    {
      "cell_type": "code",
      "metadata": {
        "id": "p7eXd72rtQqp",
        "colab_type": "code",
        "colab": {}
      },
      "source": [
        "# download GITHUB PAT file from drive\n",
        "drive_download(\"GITHUB_PAT.txt\", overwrite = TRUE)"
      ],
      "execution_count": 0,
      "outputs": []
    },
    {
      "cell_type": "code",
      "metadata": {
        "id": "DRA123xVtNUa",
        "colab_type": "code",
        "colab": {}
      },
      "source": [
        "# store GITHUB PAT token\n",
        "# will be used to install private pkgs from github\n",
        "token = readLines(\"GITHUB_PAT.txt\")"
      ],
      "execution_count": 0,
      "outputs": []
    },
    {
      "cell_type": "code",
      "metadata": {
        "id": "Io1QAWYltILe",
        "colab_type": "code",
        "colab": {}
      },
      "source": [
        "# install IFC package dependencies\n",
        "install.packages(c(\"Rcpp\", \"RcppProgress\", \"xml2\", \"png\", \"tiff\", \"jpeg\", \"utils\", \"grid\", \"gridExtra\", \"lattice\", \"latticeExtra\", \"KernSmooth\", \"DT\", \"visNetwork\"))"
      ],
      "execution_count": 0,
      "outputs": []
    },
    {
      "cell_type": "code",
      "metadata": {
        "id": "MR0r0RX9tIUJ",
        "colab_type": "code",
        "colab": {}
      },
      "source": [
        "# install and load IFC pkg\n",
        "install_github(repo = \"gitdemont/IFC\", ref = \"master\", dependencies = FALSE, auth_token = token)\n",
        "library(IFC)"
      ],
      "execution_count": 0,
      "outputs": []
    },
    {
      "cell_type": "code",
      "metadata": {
        "id": "FmZd3LD3tD-S",
        "colab_type": "code",
        "colab": {}
      },
      "source": [
        "# install IFCdata pkg\n",
        "# store file path of example files\n",
        "# that are included in IFCdata pkg\n",
        "install.packages(pkgs = 'IFCdata', repos = 'https://gitdemont.github.io/IFCdata', type = 'source')"
      ],
      "execution_count": 0,
      "outputs": []
    },
    {
      "cell_type": "code",
      "metadata": {
        "id": "bd7Xo7oRs_gL",
        "colab_type": "code",
        "colab": {}
      },
      "source": [
        "daf_file = system.file(\"extdata\", package = \"IFCdata\", \"example.daf\")\n",
        "cif_file = system.file(\"extdata\", package = \"IFCdata\", \"example.cif\")\n",
        "rif_file = system.file(\"extdata\", package = \"IFCdata\", \"example.rif\")"
      ],
      "execution_count": 0,
      "outputs": []
    },
    {
      "cell_type": "code",
      "metadata": {
        "id": "5ncnpqS1sj0t",
        "colab_type": "code",
        "colab": {}
      },
      "source": [
        "# install and load reticulate pkg\n",
        "# check python\n",
        "install.packages(\"reticulate\")\n",
        "library(reticulate, quietly = TRUE)\n",
        "py_config()"
      ],
      "execution_count": 0,
      "outputs": []
    },
    {
      "cell_type": "code",
      "metadata": {
        "id": "m61qvxE_srPI",
        "colab_type": "code",
        "colab": {}
      },
      "source": [
        "# run command to read IFC daf file\n",
        "daf = readIFC(daf_file)"
      ],
      "execution_count": 0,
      "outputs": []
    },
    {
      "cell_type": "code",
      "metadata": {
        "id": "HsnhDvyZs3j3",
        "colab_type": "code",
        "colab": {}
      },
      "source": [
        "# extract file rich info\n",
        "info = getInfo(fileName = daf_file)\n",
        "# create numpy array\n",
        "npy_file = ExportToNumpy(info = info, mode = \"raw\", export = \"file\", size = c(80,80), \n",
        "                         selection = c(6,4), removal = \"none\", write_to = \"image.npy\",\n",
        "                         overwrite = TRUE, python = Sys.getenv(\"PYTHONPATH\"))"
      ],
      "execution_count": 0,
      "outputs": []
    },
    {
      "cell_type": "code",
      "metadata": {
        "id": "ZfUKiQ1xs7YS",
        "colab_type": "code",
        "colab": {}
      },
      "source": [
        "# save in drive\n",
        "drive_upload(npy_file, path = \"extra_feat.npy\", overwrite = TRUE)"
      ],
      "execution_count": 0,
      "outputs": []
    }
  ]
}